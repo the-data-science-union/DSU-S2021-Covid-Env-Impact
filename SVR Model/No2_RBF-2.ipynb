{
 "cells": [
  {
   "cell_type": "markdown",
   "metadata": {},
   "source": [
    "In this note book we will model No2 concentrations over time using Support Vector Machines"
   ]
  },
  {
   "cell_type": "markdown",
   "metadata": {},
   "source": [
    "# I. Import Dependencies"
   ]
  },
  {
   "cell_type": "code",
   "execution_count": 1,
   "metadata": {},
   "outputs": [],
   "source": [
    "import pandas as pd\n",
    "import numpy as np\n",
    "import matplotlib.pyplot as plt\n",
    "import datetime\n",
    "\n",
    "# Sklearn\n",
    "from sklearn.model_selection import train_test_split\n",
    "from sklearn.model_selection import TimeSeriesSplit\n",
    "from sklearn import svm\n",
    "from sklearn.svm import SVR\n",
    "from sklearn.model_selection import GridSearchCV\n",
    "from sklearn import metrics\n",
    "from sklearn.metrics import mean_squared_error"
   ]
  },
  {
   "cell_type": "code",
   "execution_count": 2,
   "metadata": {},
   "outputs": [],
   "source": [
    "df = pd.read_csv('No2_Final.csv')"
   ]
  },
  {
   "cell_type": "code",
   "execution_count": 3,
   "metadata": {},
   "outputs": [
    {
     "data": {
      "text/html": [
       "<div>\n",
       "<style scoped>\n",
       "    .dataframe tbody tr th:only-of-type {\n",
       "        vertical-align: middle;\n",
       "    }\n",
       "\n",
       "    .dataframe tbody tr th {\n",
       "        vertical-align: top;\n",
       "    }\n",
       "\n",
       "    .dataframe thead th {\n",
       "        text-align: right;\n",
       "    }\n",
       "</style>\n",
       "<table border=\"1\" class=\"dataframe\">\n",
       "  <thead>\n",
       "    <tr style=\"text-align: right;\">\n",
       "      <th></th>\n",
       "      <th>Date</th>\n",
       "      <th>No2_con</th>\n",
       "      <th>No2_AQI</th>\n",
       "    </tr>\n",
       "  </thead>\n",
       "  <tbody>\n",
       "    <tr>\n",
       "      <th>67</th>\n",
       "      <td>20-Aug</td>\n",
       "      <td>15.302607</td>\n",
       "      <td>14.103647</td>\n",
       "    </tr>\n",
       "    <tr>\n",
       "      <th>68</th>\n",
       "      <td>20-Sep</td>\n",
       "      <td>21.624505</td>\n",
       "      <td>20.090636</td>\n",
       "    </tr>\n",
       "    <tr>\n",
       "      <th>69</th>\n",
       "      <td>20-Oct</td>\n",
       "      <td>25.384008</td>\n",
       "      <td>23.651372</td>\n",
       "    </tr>\n",
       "    <tr>\n",
       "      <th>70</th>\n",
       "      <td>20-Nov</td>\n",
       "      <td>26.773001</td>\n",
       "      <td>24.949670</td>\n",
       "    </tr>\n",
       "    <tr>\n",
       "      <th>71</th>\n",
       "      <td>20-Dec</td>\n",
       "      <td>26.970831</td>\n",
       "      <td>25.119968</td>\n",
       "    </tr>\n",
       "  </tbody>\n",
       "</table>\n",
       "</div>"
      ],
      "text/plain": [
       "      Date    No2_con    No2_AQI\n",
       "67  20-Aug  15.302607  14.103647\n",
       "68  20-Sep  21.624505  20.090636\n",
       "69  20-Oct  25.384008  23.651372\n",
       "70  20-Nov  26.773001  24.949670\n",
       "71  20-Dec  26.970831  25.119968"
      ]
     },
     "execution_count": 3,
     "metadata": {},
     "output_type": "execute_result"
    }
   ],
   "source": [
    "df.tail()"
   ]
  },
  {
   "cell_type": "code",
   "execution_count": 4,
   "metadata": {},
   "outputs": [
    {
     "name": "stdout",
     "output_type": "stream",
     "text": [
      "<class 'pandas.core.frame.DataFrame'>\n",
      "RangeIndex: 72 entries, 0 to 71\n",
      "Data columns (total 3 columns):\n",
      " #   Column   Non-Null Count  Dtype  \n",
      "---  ------   --------------  -----  \n",
      " 0   Date     72 non-null     object \n",
      " 1   No2_con  72 non-null     float64\n",
      " 2   No2_AQI  72 non-null     float64\n",
      "dtypes: float64(2), object(1)\n",
      "memory usage: 1.8+ KB\n"
     ]
    }
   ],
   "source": [
    "# No null data\n",
    "df.info()"
   ]
  },
  {
   "cell_type": "markdown",
   "metadata": {},
   "source": [
    "# II. Prepare Data"
   ]
  },
  {
   "cell_type": "markdown",
   "metadata": {},
   "source": [
    "We will first convert the date column to a datetime object"
   ]
  },
  {
   "cell_type": "code",
   "execution_count": 5,
   "metadata": {},
   "outputs": [],
   "source": [
    "dat = np.repeat(20, 72, axis=0).astype(str)  + df[\"Date\"].astype(str) \n",
    "dat = pd.to_datetime(dat)\n",
    "end = dat + pd.offsets.MonthBegin(1) - datetime.timedelta(days = 1)\n",
    "df['Date'] = end"
   ]
  },
  {
   "cell_type": "code",
   "execution_count": 6,
   "metadata": {},
   "outputs": [
    {
     "data": {
      "text/html": [
       "<div>\n",
       "<style scoped>\n",
       "    .dataframe tbody tr th:only-of-type {\n",
       "        vertical-align: middle;\n",
       "    }\n",
       "\n",
       "    .dataframe tbody tr th {\n",
       "        vertical-align: top;\n",
       "    }\n",
       "\n",
       "    .dataframe thead th {\n",
       "        text-align: right;\n",
       "    }\n",
       "</style>\n",
       "<table border=\"1\" class=\"dataframe\">\n",
       "  <thead>\n",
       "    <tr style=\"text-align: right;\">\n",
       "      <th></th>\n",
       "      <th>Date</th>\n",
       "      <th>No2_con</th>\n",
       "      <th>No2_AQI</th>\n",
       "    </tr>\n",
       "  </thead>\n",
       "  <tbody>\n",
       "    <tr>\n",
       "      <th>0</th>\n",
       "      <td>2015-01-31</td>\n",
       "      <td>26.099693</td>\n",
       "      <td>24.371845</td>\n",
       "    </tr>\n",
       "    <tr>\n",
       "      <th>1</th>\n",
       "      <td>2015-02-28</td>\n",
       "      <td>23.780465</td>\n",
       "      <td>22.197916</td>\n",
       "    </tr>\n",
       "    <tr>\n",
       "      <th>2</th>\n",
       "      <td>2015-03-31</td>\n",
       "      <td>22.807790</td>\n",
       "      <td>21.261101</td>\n",
       "    </tr>\n",
       "    <tr>\n",
       "      <th>3</th>\n",
       "      <td>2015-04-30</td>\n",
       "      <td>18.717231</td>\n",
       "      <td>17.420677</td>\n",
       "    </tr>\n",
       "    <tr>\n",
       "      <th>4</th>\n",
       "      <td>2015-05-31</td>\n",
       "      <td>12.130075</td>\n",
       "      <td>11.219968</td>\n",
       "    </tr>\n",
       "  </tbody>\n",
       "</table>\n",
       "</div>"
      ],
      "text/plain": [
       "        Date    No2_con    No2_AQI\n",
       "0 2015-01-31  26.099693  24.371845\n",
       "1 2015-02-28  23.780465  22.197916\n",
       "2 2015-03-31  22.807790  21.261101\n",
       "3 2015-04-30  18.717231  17.420677\n",
       "4 2015-05-31  12.130075  11.219968"
      ]
     },
     "execution_count": 6,
     "metadata": {},
     "output_type": "execute_result"
    }
   ],
   "source": [
    "df.head()"
   ]
  },
  {
   "cell_type": "markdown",
   "metadata": {},
   "source": [
    "Since the SVR model takes in the date column as integers we must integerize our date column"
   ]
  },
  {
   "cell_type": "code",
   "execution_count": 7,
   "metadata": {},
   "outputs": [],
   "source": [
    "df['Date'] = df['Date'].apply(lambda x: x.toordinal())"
   ]
  },
  {
   "cell_type": "code",
   "execution_count": 8,
   "metadata": {
    "scrolled": true
   },
   "outputs": [
    {
     "data": {
      "text/html": [
       "<div>\n",
       "<style scoped>\n",
       "    .dataframe tbody tr th:only-of-type {\n",
       "        vertical-align: middle;\n",
       "    }\n",
       "\n",
       "    .dataframe tbody tr th {\n",
       "        vertical-align: top;\n",
       "    }\n",
       "\n",
       "    .dataframe thead th {\n",
       "        text-align: right;\n",
       "    }\n",
       "</style>\n",
       "<table border=\"1\" class=\"dataframe\">\n",
       "  <thead>\n",
       "    <tr style=\"text-align: right;\">\n",
       "      <th></th>\n",
       "      <th>Date</th>\n",
       "      <th>No2_con</th>\n",
       "      <th>No2_AQI</th>\n",
       "    </tr>\n",
       "  </thead>\n",
       "  <tbody>\n",
       "    <tr>\n",
       "      <th>0</th>\n",
       "      <td>735629</td>\n",
       "      <td>26.099693</td>\n",
       "      <td>24.371845</td>\n",
       "    </tr>\n",
       "    <tr>\n",
       "      <th>1</th>\n",
       "      <td>735657</td>\n",
       "      <td>23.780465</td>\n",
       "      <td>22.197916</td>\n",
       "    </tr>\n",
       "    <tr>\n",
       "      <th>2</th>\n",
       "      <td>735688</td>\n",
       "      <td>22.807790</td>\n",
       "      <td>21.261101</td>\n",
       "    </tr>\n",
       "    <tr>\n",
       "      <th>3</th>\n",
       "      <td>735718</td>\n",
       "      <td>18.717231</td>\n",
       "      <td>17.420677</td>\n",
       "    </tr>\n",
       "    <tr>\n",
       "      <th>4</th>\n",
       "      <td>735749</td>\n",
       "      <td>12.130075</td>\n",
       "      <td>11.219968</td>\n",
       "    </tr>\n",
       "  </tbody>\n",
       "</table>\n",
       "</div>"
      ],
      "text/plain": [
       "     Date    No2_con    No2_AQI\n",
       "0  735629  26.099693  24.371845\n",
       "1  735657  23.780465  22.197916\n",
       "2  735688  22.807790  21.261101\n",
       "3  735718  18.717231  17.420677\n",
       "4  735749  12.130075  11.219968"
      ]
     },
     "execution_count": 8,
     "metadata": {},
     "output_type": "execute_result"
    }
   ],
   "source": [
    "df.head()"
   ]
  },
  {
   "cell_type": "markdown",
   "metadata": {},
   "source": [
    "Prepare date and concentration columns as lists"
   ]
  },
  {
   "cell_type": "code",
   "execution_count": 9,
   "metadata": {},
   "outputs": [],
   "source": [
    "# X columns\n",
    "days = list()\n",
    "# y column\n",
    "cons = list()"
   ]
  },
  {
   "cell_type": "code",
   "execution_count": 10,
   "metadata": {},
   "outputs": [],
   "source": [
    "df_date = df.loc[:,'Date']\n",
    "df_con = df.loc[:,'No2_con']"
   ]
  },
  {
   "cell_type": "code",
   "execution_count": 11,
   "metadata": {},
   "outputs": [],
   "source": [
    "for day in df_date:\n",
    "    days.append([int(day)])  \n",
    "for con in df_con:\n",
    "    cons.append(float(con))"
   ]
  },
  {
   "cell_type": "code",
   "execution_count": 12,
   "metadata": {},
   "outputs": [
    {
     "name": "stdout",
     "output_type": "stream",
     "text": [
      "[[735629], [735657], [735688], [735718], [735749]]\n",
      "[26.09969271, 23.78046522, 22.80778955, 18.71723094, 12.13007508]\n"
     ]
    }
   ],
   "source": [
    "print(days[0:5])\n",
    "print(cons[0:5])"
   ]
  },
  {
   "cell_type": "markdown",
   "metadata": {},
   "source": [
    "Before splitting our data into training and testing data for our model, we set a random seed to ensure that the random values the code generates will be the same everytime it is run. This is so that our evaluations and explanations of our models are consistent with the model outputs."
   ]
  },
  {
   "cell_type": "code",
   "execution_count": 13,
   "metadata": {},
   "outputs": [],
   "source": [
    "np.random.seed(1234)"
   ]
  },
  {
   "cell_type": "markdown",
   "metadata": {},
   "source": [
    "We will use `train_test_split` from the sklearn module to split the raw data into two sets: training set and testing set at the proportion 70 : 30"
   ]
  },
  {
   "cell_type": "code",
   "execution_count": 14,
   "metadata": {},
   "outputs": [],
   "source": [
    "x_train, x_test, y_train, y_test = train_test_split(days, cons, test_size=0.3)"
   ]
  },
  {
   "cell_type": "markdown",
   "metadata": {},
   "source": [
    "# III.  Support Vector Regression Model"
   ]
  },
  {
   "cell_type": "markdown",
   "metadata": {},
   "source": [
    "For this SVR time series model we will use the rbf kernel. Let's start by training a model with the default parameters "
   ]
  },
  {
   "cell_type": "code",
   "execution_count": 15,
   "metadata": {},
   "outputs": [
    {
     "data": {
      "text/plain": [
       "SVR()"
      ]
     },
     "execution_count": 15,
     "metadata": {},
     "output_type": "execute_result"
    }
   ],
   "source": [
    "rbf = SVR(kernel= 'rbf')\n",
    "rbf.fit(x_train,y_train)"
   ]
  },
  {
   "cell_type": "code",
   "execution_count": 16,
   "metadata": {},
   "outputs": [
    {
     "name": "stdout",
     "output_type": "stream",
     "text": [
      "RMSE value of the SVR Model is: 6.175577057941007\n",
      "R squared score of the SVR Model is:  0.04347295506711257\n"
     ]
    }
   ],
   "source": [
    "print('RMSE value of the SVR Model is:', np.sqrt(metrics.mean_squared_error(y_test, rbf.predict(x_test))))\n",
    "print('R squared score of the SVR Model is: ', rbf.score(x_train,y_train))"
   ]
  },
  {
   "cell_type": "code",
   "execution_count": 17,
   "metadata": {},
   "outputs": [
    {
     "data": {
      "text/plain": [
       "[<matplotlib.lines.Line2D at 0x7fc41648c490>]"
      ]
     },
     "execution_count": 17,
     "metadata": {},
     "output_type": "execute_result"
    },
    {
     "data": {
      "image/png": "[encoded data removed]",
      "text/plain": [
       "<Figure size 720x360 with 1 Axes>"
      ]
     },
     "metadata": {
      "needs_background": "light"
     },
     "output_type": "display_data"
    }
   ],
   "source": [
    "# Plot results\n",
    "plt.figure(figsize=(10,5))\n",
    "plt.plot(days,cons, color=\"blue\")\n",
    "plt.plot(days, rbf.predict(days), color='red')"
   ]
  },
  {
   "cell_type": "markdown",
   "metadata": {},
   "source": [
    "As we can see this is a smoothed model and it fails to capture the fluctuations in our data. To improve this we will use gridsearch to tune select parameters"
   ]
  },
  {
   "cell_type": "code",
   "execution_count": 18,
   "metadata": {},
   "outputs": [],
   "source": [
    "param = {'C' : [1,10,1000],'epsilon':[0.1,0.2,0.5,0.3],'gamma': [1e-8, 1e-7, 1e-6, 1e-5, 1e-4, 1e-3, 1e-2, 1e-1]},\n",
    "modelsvr = SVR(kernel='rbf')\n",
    "grids = GridSearchCV(modelsvr,param,cv=5)"
   ]
  },
  {
   "cell_type": "code",
   "execution_count": 19,
   "metadata": {},
   "outputs": [
    {
     "data": {
      "text/plain": [
       "GridSearchCV(cv=5, estimator=SVR(),\n",
       "             param_grid=({'C': [1, 10, 1000], 'epsilon': [0.1, 0.2, 0.5, 0.3],\n",
       "                          'gamma': [1e-08, 1e-07, 1e-06, 1e-05, 0.0001, 0.001,\n",
       "                                    0.01, 0.1]},))"
      ]
     },
     "execution_count": 19,
     "metadata": {},
     "output_type": "execute_result"
    }
   ],
   "source": [
    "grids.fit(x_train,y_train)"
   ]
  },
  {
   "cell_type": "code",
   "execution_count": 20,
   "metadata": {},
   "outputs": [
    {
     "name": "stdout",
     "output_type": "stream",
     "text": [
      "best parameters are:  {'C': 10, 'epsilon': 0.5, 'gamma': 0.0001}\n"
     ]
    }
   ],
   "source": [
    "print(\"best parameters are: \", grids.best_params_)"
   ]
  },
  {
   "cell_type": "markdown",
   "metadata": {},
   "source": [
    "We train a model using the follwing two parameters"
   ]
  },
  {
   "cell_type": "code",
   "execution_count": 21,
   "metadata": {},
   "outputs": [
    {
     "data": {
      "text/plain": [
       "SVR(C=10, epsilon=0.5, gamma=0.0001)"
      ]
     },
     "execution_count": 21,
     "metadata": {},
     "output_type": "execute_result"
    }
   ],
   "source": [
    "best_rbf = SVR(kernel= 'rbf', C= 10, epsilon = 0.5, gamma = 0.0001)\n",
    "best_rbf.fit(x_train,y_train)"
   ]
  },
  {
   "cell_type": "code",
   "execution_count": 22,
   "metadata": {
    "scrolled": true
   },
   "outputs": [
    {
     "name": "stdout",
     "output_type": "stream",
     "text": [
      "RMSE value of the SVR Model is: 3.0685058155240577\n",
      "R squared score of the SVR Model is:  0.9111988255647572\n"
     ]
    }
   ],
   "source": [
    "print('RMSE value of the SVR Model is:', np.sqrt(metrics.mean_squared_error(y_test, best_rbf.predict(x_test))))\n",
    "print('R squared score of the SVR Model is: ', best_rbf.score(x_train,y_train))"
   ]
  },
  {
   "cell_type": "code",
   "execution_count": 23,
   "metadata": {},
   "outputs": [],
   "source": [
    "x = []\n",
    "for sublist in x_test:\n",
    "    for item in sublist:\n",
    "        x.append(item)\n",
    "        \n",
    "y = list(zip(y_test, best_rbf.predict(x_test)))"
   ]
  },
  {
   "cell_type": "code",
   "execution_count": 26,
   "metadata": {},
   "outputs": [
    {
     "data": {
      "image/png": "[encoded data removed]",
      "text/plain": [
       "<Figure size 720x360 with 1 Axes>"
      ]
     },
     "metadata": {
      "needs_background": "light"
     },
     "output_type": "display_data"
    }
   ],
   "source": [
    "plt.figure(figsize=(10,5))\n",
    "plt.plot(days,cons, color=\"blue\")\n",
    "plt.plot(days, best_rbf.predict(days), color='red')\n",
    "plt.show()"
   ]
  },
  {
   "cell_type": "code",
   "execution_count": 27,
   "metadata": {},
   "outputs": [
    {
     "data": {
      "image/png": "[encoded data removed]",
      "text/plain": [
       "<Figure size 720x360 with 1 Axes>"
      ]
     },
     "metadata": {
      "needs_background": "light"
     },
     "output_type": "display_data"
    }
   ],
   "source": [
    "plt.figure(figsize=(10,5))\n",
    "plt.scatter(x_test,y_test, color=\"blue\")\n",
    "plt.scatter(x_test, best_rbf.predict(x_test), color='red')\n",
    "plt.plot((x,x),([i for (i,j) in y], [j for (i,j) in y]),c='black')\n",
    "plt.show()"
   ]
  },
  {
   "cell_type": "markdown",
   "metadata": {},
   "source": [
    "As we can see the results are much better. The fluctation in the data is captured and our RMSE and R-squared values have also improved."
   ]
  },
  {
   "cell_type": "code",
   "execution_count": 28,
   "metadata": {
    "scrolled": true
   },
   "outputs": [
    {
     "name": "stdout",
     "output_type": "stream",
     "text": [
      "[19.91032231 16.88421889 21.66458359 16.00153002 13.44131712 13.24688159\n",
      " 24.97662722 17.479674   18.70396018 21.20775112 19.18100422 16.18212173\n",
      " 21.8325088  20.5138592  14.46302969 16.78166859 13.87397356 21.07955195\n",
      " 24.28974169 26.17096376 11.7060611  16.75051362]\n",
      "[22.13688907, 16.08530984, 27.78537632, 16.29428991, 11.80746749, 14.08617257, 22.20904548, 16.9430141, 20.20115076, 25.68588883, 22.06108915, 12.13007508, 18.41280954, 25.09714651, 12.33432212, 15.30260661, 13.73819223, 21.62450487, 29.56607159, 31.48716085, 13.14884763, 19.53460323]\n"
     ]
    }
   ],
   "source": [
    "print(best_rbf.predict(x_test))\n",
    "print(y_test)"
   ]
  }
 ],
 "metadata": {
  "kernelspec": {
   "display_name": "Python 3",
   "language": "python",
   "name": "python3"
  },
  "language_info": {
   "codemirror_mode": {
    "name": "ipython",
    "version": 3
   },
   "file_extension": ".py",
   "mimetype": "text/x-python",
   "name": "python",
   "nbconvert_exporter": "python",
   "pygments_lexer": "ipython3",
   "version": "3.8.5"
  }
 },
 "nbformat": 4,
 "nbformat_minor": 4
}
